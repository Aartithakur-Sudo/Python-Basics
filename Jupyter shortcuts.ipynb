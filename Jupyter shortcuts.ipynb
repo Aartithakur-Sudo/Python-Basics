{
 "cells": [
  {
   "cell_type": "markdown",
   "metadata": {},
   "source": [
    "Shortcuts For Jupyter"
   ]
  },
  {
   "cell_type": "markdown",
   "metadata": {},
   "source": [
    "esc +m -markdwon\n",
    "\n",
    "esc+a Insert cell above\n",
    "\n",
    "esc+b -insert cell below'\n",
    "\n",
    "esc+1 - Heading\n",
    "\n",
    "esc+y  -code\n",
    "Long mouse - Alt +mouse drag\n",
    "twomouse -Ctrl +click on 2nd place\n",
    "\n",
    "shift+enter+L- subcolumns remove and ADD\n",
    "\n",
    "esc +z _ Previous Values\n",
    "esc +y - Search box open in google\n"
   ]
  },
  {
   "cell_type": "markdown",
   "metadata": {},
   "source": [
    "\n",
    "[] = Brackets                  \n",
    "\n",
    "() = Parenthesis \n",
    "\n",
    "{} = Curly Braces\n",
    "\n",
    "In-built = Built-In\n"
   ]
  },
  {
   "cell_type": "code",
   "execution_count": null,
   "metadata": {},
   "outputs": [],
   "source": []
  },
  {
   "cell_type": "code",
   "execution_count": null,
   "metadata": {},
   "outputs": [],
   "source": []
  }
 ],
 "metadata": {
  "kernelspec": {
   "display_name": "Python 3",
   "language": "python",
   "name": "python3"
  },
  "language_info": {
   "codemirror_mode": {
    "name": "ipython",
    "version": 3
   },
   "file_extension": ".py",
   "mimetype": "text/x-python",
   "name": "python",
   "nbconvert_exporter": "python",
   "pygments_lexer": "ipython3",
   "version": "3.8.5"
  }
 },
 "nbformat": 4,
 "nbformat_minor": 4
}
