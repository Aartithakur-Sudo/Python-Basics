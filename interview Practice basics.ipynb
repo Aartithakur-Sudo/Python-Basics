{
 "cells": [
  {
   "cell_type": "markdown",
   "metadata": {},
   "source": [
    "#### What is Python"
   ]
  },
  {
   "cell_type": "markdown",
   "metadata": {},
   "source": [
    "- Python is a High level, interpreted object-oriented language, That is easy to use and easy to debug.\n",
    "- Because of its small syntax it enables the programmers to focus more on solutions rather than syntax"
   ]
  },
  {
   "cell_type": "markdown",
   "metadata": {},
   "source": [
    "#### Features of Python"
   ]
  },
  {
   "cell_type": "markdown",
   "metadata": {},
   "source": [
    "- It's an Open source language - Its means one can easily download it from internet free of cost and install it on any operating system \n",
    "- it supports all operating system whether its Windows, Mac or Linux\n",
    "- It's an interpreted language - it means that it uses an interpreter that converts oue code into the language that is understood by the computer processsor\n",
    "- It's an procedure - oriented and object -oriented language - It means that suppose there's a task that needs to be done through a step by step procedure then python is the one lanuage that can do it and about object oriented langauage it means that it revolves around the concept of objects , its make it easier to develop debug and reuse.\n",
    "- it's dynamically typed and it has automatic memory Management its means it prevent the user to manually find the memory or free some space for codes.\n",
    "- last one is it's portable it means that it can run on many platforms"
   ]
  },
  {
   "cell_type": "markdown",
   "metadata": {},
   "source": [
    "#### Python Dictionary"
   ]
  },
  {
   "cell_type": "markdown",
   "metadata": {},
   "source": [
    "- Python Dictionary is like real-world sictionary.\n",
    "- it stores the values in key-values format.\n",
    "- if you want to access the dictionary you can use keys.\n",
    "- but all keys have to be unique\n",
    "- key is seprated from values by a colon(:)\n",
    "-Key,values pair is separated by comma(,)"
   ]
  },
  {
   "cell_type": "markdown",
   "metadata": {},
   "source": [
    "#### What are tuples:"
   ]
  },
  {
   "cell_type": "markdown",
   "metadata": {},
   "source": [
    "- it's an immutable lists of python objects\n",
    "- its written as collection of comma seprated value with round brackets\n",
    "- once its written , tuples elements can not be changed\n",
    "- tuples are basicaly used for read only collections"
   ]
  },
  {
   "cell_type": "markdown",
   "metadata": {},
   "source": [
    "#### Tuples VS Lists"
   ]
  },
  {
   "cell_type": "markdown",
   "metadata": {},
   "source": [
    "- Lists are mutable \n",
    "- Tuples are immutable\n",
    "- Lists are written as collections of comma separated values with square brackets\n",
    "- Tuples are written as collections of comma seprated values with round brackets"
   ]
  },
  {
   "cell_type": "markdown",
   "metadata": {},
   "source": [
    "#### Explain the operators // % **"
   ]
  },
  {
   "cell_type": "markdown",
   "metadata": {},
   "source": [
    "#### // Floor Divison \n",
    "\n",
    "Division Operations\n",
    "\n",
    "- It returns the quotient value without the decimal values"
   ]
  },
  {
   "cell_type": "code",
   "execution_count": 5,
   "metadata": {},
   "outputs": [
    {
     "name": "stdout",
     "output_type": "stream",
     "text": [
      "1\n"
     ]
    }
   ],
   "source": [
    "a= 5\n",
    "b= 3\n",
    "print(a//b)"
   ]
  },
  {
   "cell_type": "markdown",
   "metadata": {},
   "source": [
    "#### % Modulus\n",
    "\n",
    "- It returns the remainder when left hand operand divided by the Right hand operand "
   ]
  },
  {
   "cell_type": "code",
   "execution_count": 6,
   "metadata": {},
   "outputs": [
    {
     "name": "stdout",
     "output_type": "stream",
     "text": [
      "2\n"
     ]
    }
   ],
   "source": [
    "a= 5\n",
    "b=3\n",
    "print(a%b)"
   ]
  },
  {
   "cell_type": "markdown",
   "metadata": {},
   "source": [
    "#### ** Exponent\n",
    "- It means it perform exponential function on operand\n",
    "- it means 'a raised to the power of b'"
   ]
  },
  {
   "cell_type": "code",
   "execution_count": 9,
   "metadata": {},
   "outputs": [
    {
     "name": "stdout",
     "output_type": "stream",
     "text": [
      "10240000000000\n"
     ]
    }
   ],
   "source": [
    "a= 20\n",
    "b= 10\n",
    "print(a**b)"
   ]
  },
  {
   "cell_type": "markdown",
   "metadata": {},
   "source": [
    "#### Remove del and pop "
   ]
  },
  {
   "cell_type": "markdown",
   "metadata": {},
   "source": [
    "- in Python del is a keyword and pop() and remove() are buit-in functions\n",
    "- del keyword deletes a value or a whole list ( del list_name[index], del list_name)\n",
    "- Remove method deletes the values or object from the list while del and pop method deletes the objects using index values"
   ]
  },
  {
   "cell_type": "markdown",
   "metadata": {},
   "source": [
    "list_name =[1,2,3,4,5,6,7,8,9,10,'red','blue','green']\n",
    "\n",
    "del list_name[1]\n",
    "\n",
    "del list_name\n",
    "\n",
    "print(list_name)"
   ]
  },
  {
   "cell_type": "markdown",
   "metadata": {},
   "source": [
    "#### del use index"
   ]
  },
  {
   "cell_type": "code",
   "execution_count": 16,
   "metadata": {},
   "outputs": [
    {
     "name": "stdout",
     "output_type": "stream",
     "text": [
      "[1, 2, 3, 5, 6, 7, 8, 8, 9, 9, 'green', 'red', 'blue']\n"
     ]
    }
   ],
   "source": [
    "list2 =[1,2,3,4,5,6,7,8,8,9,9,'green','red','blue']\n",
    "del list2[3]\n",
    "print(list2)"
   ]
  },
  {
   "cell_type": "markdown",
   "metadata": {},
   "source": [
    "#### pop use index"
   ]
  },
  {
   "cell_type": "code",
   "execution_count": 25,
   "metadata": {},
   "outputs": [
    {
     "name": "stdout",
     "output_type": "stream",
     "text": [
      "[1, 2, 7, 8, 8, 9, 9, 'green', 'red', 'blue']\n"
     ]
    }
   ],
   "source": [
    "list2.pop(2)\n",
    "print(list2)"
   ]
  },
  {
   "cell_type": "markdown",
   "metadata": {},
   "source": [
    "#### remove - do not use index"
   ]
  },
  {
   "cell_type": "code",
   "execution_count": 29,
   "metadata": {},
   "outputs": [
    {
     "name": "stdout",
     "output_type": "stream",
     "text": [
      "[1, 2, 8, 8, 9, 9, 'red', 'blue']\n"
     ]
    }
   ],
   "source": [
    "list2.remove('green')\n",
    "print(list2)"
   ]
  },
  {
   "cell_type": "markdown",
   "metadata": {},
   "source": [
    "#### Negative indexes in Python"
   ]
  },
  {
   "cell_type": "markdown",
   "metadata": {},
   "source": [
    "- It refer to the elements from end to start"
   ]
  },
  {
   "cell_type": "markdown",
   "metadata": {},
   "source": [
    "#### for example"
   ]
  },
  {
   "cell_type": "code",
   "execution_count": 32,
   "metadata": {},
   "outputs": [
    {
     "name": "stdout",
     "output_type": "stream",
     "text": [
      "4\n"
     ]
    }
   ],
   "source": [
    "arr =[1,2,3,4,5]\n",
    "print(arr[-2])"
   ]
  },
  {
   "cell_type": "code",
   "execution_count": 33,
   "metadata": {},
   "outputs": [
    {
     "name": "stdout",
     "output_type": "stream",
     "text": [
      "3\n"
     ]
    }
   ],
   "source": [
    "print(arr[2])"
   ]
  },
  {
   "cell_type": "markdown",
   "metadata": {},
   "source": [
    "#### append and extend"
   ]
  },
  {
   "cell_type": "markdown",
   "metadata": {},
   "source": [
    "#### - append ()"
   ]
  },
  {
   "cell_type": "markdown",
   "metadata": {},
   "source": [
    "- single element is added at the end of the list \n",
    "- since only single element is added at the end of the list , the length of list increased by the one\n",
    "- can include any list , strings or numbers through append"
   ]
  },
  {
   "cell_type": "code",
   "execution_count": 44,
   "metadata": {},
   "outputs": [
    {
     "data": {
      "text/plain": [
       "[1, 2, 3, 4, 5, 'red', [1, 89]]"
      ]
     },
     "execution_count": 44,
     "metadata": {},
     "output_type": "execute_result"
    }
   ],
   "source": [
    "a = [1,2,3,4,5]\n",
    "a.append('red')\n",
    "a\n",
    "list = [1,89]\n",
    "a.append(list)\n",
    "a"
   ]
  },
  {
   "cell_type": "markdown",
   "metadata": {},
   "source": [
    "#### - extend()"
   ]
  },
  {
   "cell_type": "markdown",
   "metadata": {},
   "source": [
    "- it includes every single items of the iterable into the list\n",
    "- the length of the list is depends on the length of the iterables\n",
    "- its only includes the iterables "
   ]
  },
  {
   "cell_type": "code",
   "execution_count": 46,
   "metadata": {},
   "outputs": [
    {
     "data": {
      "text/plain": [
       "[1,\n",
       " 2,\n",
       " 3,\n",
       " 4,\n",
       " 5,\n",
       " 'red',\n",
       " [1, 89],\n",
       " 'r',\n",
       " 'e',\n",
       " 'd',\n",
       " 'g',\n",
       " 'r',\n",
       " 'e',\n",
       " 'e',\n",
       " 'n',\n",
       " 'r',\n",
       " 'e',\n",
       " 'd',\n",
       " 'g',\n",
       " 'r',\n",
       " 'e',\n",
       " 'e',\n",
       " 'n']"
      ]
     },
     "execution_count": 46,
     "metadata": {},
     "output_type": "execute_result"
    }
   ],
   "source": [
    "a\n",
    "a.extend('red')\n",
    "a.extend('green')\n",
    "a"
   ]
  },
  {
   "cell_type": "markdown",
   "metadata": {},
   "source": [
    "#### Deep copy and Shallow Copy"
   ]
  },
  {
   "cell_type": "markdown",
   "metadata": {},
   "source": [
    "#### Deep copy \n",
    "- it creates the new and seprate copy of the objects and its elements\n",
    "- any changes made in the copy doesn't make any changes in the original copy"
   ]
  },
  {
   "cell_type": "markdown",
   "metadata": {},
   "source": [
    "#### Shallow copy\n",
    "- it copy the objects but rather than copying the elements it copies a reference to the memory addresses\n",
    "- any changes made in the copy reflect the changes in the original one"
   ]
  },
  {
   "cell_type": "markdown",
   "metadata": {},
   "source": [
    "#### Lambda and its use"
   ]
  },
  {
   "cell_type": "markdown",
   "metadata": {},
   "source": [
    "- Simple one line function\n",
    "- we can have any number of arguments but only one expression\n",
    "- keyword is 'Lambda'\n",
    "- Lambda functions are used when you need a function for a short period of time"
   ]
  },
  {
   "cell_type": "code",
   "execution_count": 48,
   "metadata": {},
   "outputs": [
    {
     "data": {
      "text/plain": [
       "<function __main__.<lambda>(argument)>"
      ]
     },
     "execution_count": 48,
     "metadata": {},
     "output_type": "execute_result"
    }
   ],
   "source": [
    "lambda argument:expression"
   ]
  },
  {
   "cell_type": "code",
   "execution_count": 56,
   "metadata": {},
   "outputs": [
    {
     "name": "stdout",
     "output_type": "stream",
     "text": [
      "-42\n",
      "172.5\n",
      "147.0\n"
     ]
    }
   ],
   "source": [
    "testfunc= lambda a, b, c, d:a+b-c*d\n",
    "print(testfunc(10,20,8,9))\n",
    "newfunc = lambda x,y,z:x*y/z\n",
    "print(newfunc(23,45,6))\n",
    "lenHei = lambda length,height:length*height\n",
    "print(lenHei(30,4.9))"
   ]
  },
  {
   "cell_type": "markdown",
   "metadata": {},
   "source": [
    "#### traditional function instead of Lambda"
   ]
  },
  {
   "cell_type": "code",
   "execution_count": 59,
   "metadata": {},
   "outputs": [
    {
     "name": "stdout",
     "output_type": "stream",
     "text": [
      "-2980\n"
     ]
    }
   ],
   "source": [
    "def testfunc(a,b,c,d):\n",
    "    return a+b-c*d\n",
    "print(testfunc(12,23,45,67))"
   ]
  },
  {
   "cell_type": "code",
   "execution_count": 61,
   "metadata": {},
   "outputs": [
    {
     "name": "stdout",
     "output_type": "stream",
     "text": [
      "172.5\n"
     ]
    }
   ],
   "source": [
    "def newfunc(x,y,z):\n",
    "    return x*y/z\n",
    "print(newfunc(23,45,6))"
   ]
  },
  {
   "cell_type": "markdown",
   "metadata": {},
   "source": [
    "#### or "
   ]
  },
  {
   "cell_type": "code",
   "execution_count": 1,
   "metadata": {},
   "outputs": [
    {
     "name": "stdout",
     "output_type": "stream",
     "text": [
      "18\n"
     ]
    }
   ],
   "source": [
    "def testfunc(num):\n",
    "    return lambda x :x*num\n",
    "result = testfunc(9)\n",
    "print(result(2))"
   ]
  },
  {
   "cell_type": "code",
   "execution_count": 3,
   "metadata": {},
   "outputs": [
    {
     "name": "stdout",
     "output_type": "stream",
     "text": [
      "-31\n"
     ]
    }
   ],
   "source": [
    "def func(num):\n",
    "    return lambda n:n-num\n",
    "result = func(34)\n",
    "print(result(3))"
   ]
  },
  {
   "cell_type": "code",
   "execution_count": null,
   "metadata": {},
   "outputs": [],
   "source": []
  }
 ],
 "metadata": {
  "kernelspec": {
   "display_name": "Python 3",
   "language": "python",
   "name": "python3"
  },
  "language_info": {
   "codemirror_mode": {
    "name": "ipython",
    "version": 3
   },
   "file_extension": ".py",
   "mimetype": "text/x-python",
   "name": "python",
   "nbconvert_exporter": "python",
   "pygments_lexer": "ipython3",
   "version": "3.8.5"
  }
 },
 "nbformat": 4,
 "nbformat_minor": 4
}
